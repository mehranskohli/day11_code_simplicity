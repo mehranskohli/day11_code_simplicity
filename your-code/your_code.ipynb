{
 "cells": [
  {
   "cell_type": "code",
   "execution_count": null,
   "metadata": {},
   "outputs": [],
   "source": [
    "#Q1\n",
    "''''\n",
    "import math\n",
    "\n",
    "First_number = input(\"enter first number: \")\n",
    "Operator= input ('What do you want to do? plus or minus: ')\n",
    "Second_number = input(\"enter second number: \")\n",
    "\n",
    "\n",
    "for i in First_number and f in Second_number:\n",
    "    one == int(1)\n",
    "    two == int(2)\n",
    "    three == int(3)\n",
    "    four == int(4)\n",
    "    five == int(5)\n",
    "\n",
    "    if Operator == 'plus':\n",
    "        print(f)\n",
    "    if Operator == 'minus':\n",
    "        print (i-f)\n",
    "''''"
   ]
  },
  {
   "cell_type": "code",
   "execution_count": 23,
   "metadata": {},
   "outputs": [
    {
     "name": "stdout",
     "output_type": "stream",
     "text": [
      "enter first number: 1\n",
      "What do you want to do? plus or minus: plus\n",
      "enter second number: 2\n",
      "3\n"
     ]
    }
   ],
   "source": [
    "import math\n",
    "\n",
    "a = int(input(\"enter first number(1-5): \"))\n",
    "b= input ('What do you want to do? plus or minus: ')\n",
    "c = int(input(\"enter second number(1-5): \"))\n",
    "\n",
    "\n",
    "\n",
    "if b == 'plus':\n",
    "    print(a+c)\n",
    "if b == 'minus':\n",
    "    print (a-c)"
   ]
  },
  {
   "cell_type": "code",
   "execution_count": 43,
   "metadata": {},
   "outputs": [],
   "source": [
    "#Q2 "
   ]
  },
  {
   "cell_type": "code",
   "execution_count": 52,
   "metadata": {},
   "outputs": [],
   "source": [
    "import random\n",
    "import string\n",
    "\n",
    "\n",
    "def randomString(stringLength):\n",
    "\n",
    "    letters = string.ascii_letters + string.digits\n",
    "    return ''.join(random.choice(letters) for i in range(stringLength))"
   ]
  },
  {
   "cell_type": "code",
   "execution_count": 57,
   "metadata": {},
   "outputs": [
    {
     "name": "stdout",
     "output_type": "stream",
     "text": [
      "Enter string length: 7\n",
      "How many random strings to generate? 7\n",
      "['T5LvkJC', 'rS6d7EI', 'E6Publo', '58kfp42', 'QyCovIp', 'NcCOkc2', 'q6Bxlj2']\n"
     ]
    }
   ],
   "source": [
    "string_length = int(input('Enter string length: '))\n",
    "n = int(input('How many random strings to generate? '))\n",
    "batch = []\n",
    "\n",
    "for x in range(n): \n",
    "    element = randomString(string_length)\n",
    "    batch.append(element)\n",
    "\n",
    "print(batch)\n",
    "\n"
   ]
  },
  {
   "cell_type": "code",
   "execution_count": null,
   "metadata": {},
   "outputs": [],
   "source": [
    "#Q3 "
   ]
  },
  {
   "cell_type": "code",
   "execution_count": 69,
   "metadata": {},
   "outputs": [],
   "source": [
    "def longest_side_right_triangle(X):\n",
    "    possible_solutions = []\n",
    "    for x in range(5, X):\n",
    "        for y in range(4, X):\n",
    "            for z in range(3, X):\n",
    "                if (x*x==y*y+z*z):\n",
    "                  possible_solutions.append([x, y, z])\n",
    "    longes = 0\n",
    "    for solution in possible_solutions:\n",
    "        if m < max(solution):\n",
    "            m = max(solution)\n",
    "    return m\n"
   ]
  },
  {
   "cell_type": "code",
   "execution_count": 70,
   "metadata": {},
   "outputs": [
    {
     "name": "stdout",
     "output_type": "stream",
     "text": [
      "What is the maximal length of the triangle side? Enter a number: 10\n",
      "The longest side possible is 5\n"
     ]
    }
   ],
   "source": [
    "    \n",
    "\n",
    "X = input(\"What is the maximal length of the triangle side? Enter a number: \")\n",
    "\n",
    "print(\"The longest side possible is \" + str(longest_side_right_triangle(int(X))))"
   ]
  },
  {
   "cell_type": "code",
   "execution_count": null,
   "metadata": {},
   "outputs": [],
   "source": []
  }
 ],
 "metadata": {
  "kernelspec": {
   "display_name": "Python 3",
   "language": "python",
   "name": "python3"
  }
 },
 "nbformat": 4,
 "nbformat_minor": 2
}
